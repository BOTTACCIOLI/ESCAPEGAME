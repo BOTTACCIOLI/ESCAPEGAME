{
 "cells": [
  {
   "cell_type": "markdown",
   "metadata": {},
   "source": [
    "L'algorithme ci-dessous a pour but de calculer l'image par une fonction définie par morceaux. \n",
    "\n",
    "Il est incomplet !\n",
    "\n",
    "A vous de compléter les lignes 2, 3, 5, 7 et 8, sachant que l'expression de cette fonction est donnée dans le document sur lequel vous avez trouvé le lien pour arriver jusqu'ici. "
   ]
  },
  {
   "cell_type": "markdown",
   "metadata": {},
   "source": [
    "## <span style='color:red'>**$$ \\hspace{0.3cm} RAPPEL $$**</span>\n",
    "\n",
    "\n",
    "Pour valider un bloc (c'est-à-dire une commande, un programme, une exécution de programme ...), on doit cliquer sur l'icône avec le triangle dans la barre tout en haut."
   ]
  },
  {
   "cell_type": "code",
   "execution_count": 5,
   "metadata": {},
   "outputs": [],
   "source": [
    "def fonctionspécialementcrééepourlescapegame(x):\n",
    "    if      :\n",
    "        y=\n",
    "    elif 5<x<9:\n",
    "        y=\n",
    "    else :\n",
    "        \n",
    "    "
   ]
  },
  {
   "cell_type": "markdown",
   "metadata": {},
   "source": [
    "Pour déterminer la valeur cherchée, il suffit d'exécuter l'algorithme précédent avec la valeur 11"
   ]
  },
  {
   "cell_type": "code",
   "execution_count": null,
   "metadata": {},
   "outputs": [],
   "source": []
  }
 ],
 "metadata": {
  "kernelspec": {
   "display_name": "Python 3",
   "language": "python",
   "name": "python3"
  },
  "language_info": {
   "codemirror_mode": {
    "name": "ipython",
    "version": 3
   },
   "file_extension": ".py",
   "mimetype": "text/x-python",
   "name": "python",
   "nbconvert_exporter": "python",
   "pygments_lexer": "ipython3",
   "version": "3.8.5"
  }
 },
 "nbformat": 4,
 "nbformat_minor": 4
}
